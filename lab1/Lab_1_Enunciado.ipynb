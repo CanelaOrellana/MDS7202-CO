{
 "cells": [
  {
   "cell_type": "markdown",
   "metadata": {
    "id": "J4_IcuuKZj9Y"
   },
   "source": [
    "<h1><center>Laboratorio 1: Git 👾</center></h1>\n",
    "\n",
    "<center><strong>MDS7202: Laboratorio de Programación Científica para Ciencia de Datos - Otoño 2023</strong></center>"
   ]
  },
  {
   "cell_type": "markdown",
   "metadata": {
    "id": "AEXIACc7aADv"
   },
   "source": [
    "### Cuerpo Docente:\n",
    "\n",
    "- Profesores: Pablo Badilla, Ignacio Meza D.\n",
    "- Auxiliar: Sebastián Tinoco\n",
    "- Ayudante: Diego Cortez"
   ]
  },
  {
   "cell_type": "markdown",
   "metadata": {
    "id": "0HgMMyoCaG8X"
   },
   "source": [
    "### Equipo: SUPER IMPORTANTE - notebooks sin nombre no serán revisados\n",
    "\n",
    "- Nombre de alumno 1: Canela Orellana\n",
    "- Nombre de alumno 2: -"
   ]
  },
  {
   "cell_type": "markdown",
   "metadata": {
    "id": "fz77X6glaK6y"
   },
   "source": [
    "### **Link de repositorio de GitHub:** `https://github.com/CanelaOrellana/MDS7202-CO`"
   ]
  },
  {
   "cell_type": "markdown",
   "metadata": {
    "id": "rRwqaxIZaNx3"
   },
   "source": [
    "## Reglas:\n",
    "\n",
    "- Fecha de entrega: 6 días desde la publicación, 3 días de atraso con 1 punto de descuento c/u. Pueden utilizar días bonus sin descuento.\n",
    "- **Grupos de 2 personas**.\n",
    "- **Ausentes** deberán realizar la actividad solos. \n",
    "- Cualquier duda fuera del horario de clases al foro. Mensajes al equipo docente serán respondidos por este medio.\n",
    "- <u>Prohibidas las copias</u>. Cualquier intento de copia será debidamente penalizado con el reglamento de la escuela.\n",
    "- Pueden usar cualquer material del curso que estimen conveniente.\n",
    "- Asistencia obligatoria a instrucciones del lab (viernes 16.15). Luego, pueden quedarse trabajando en las salas o irse."
   ]
  },
  {
   "cell_type": "markdown",
   "metadata": {
    "id": "bmToL27JaSrf"
   },
   "source": [
    "## Objetivos del lab:\n",
    "\n",
    "\n",
    "- Conocer los elementos básicos que conformar `Git`\n",
    "- Clonar repositorios\n",
    "- Identificar ramas de un repositorio\n",
    "- Reconocer y solucionar problemas entre ramas\n",
    "- Subir cambios a un repositorio"
   ]
  },
  {
   "cell_type": "markdown",
   "metadata": {
    "id": "bvnPCvrVbJLK"
   },
   "source": [
    "## Parte 1: Conocimiento Teórico (2 pts)"
   ]
  },
  {
   "cell_type": "markdown",
   "metadata": {
    "id": "JHl-24XnbNLF"
   },
   "source": [
    "Responda las siguientes preguntas (0.2 pts c/u):\n",
    "\n",
    "1. ¿Qué es `Git` y cómo se relaciona con el control de versiones?\n",
    "\n",
    "2. Nombre y explique 3 diferencias entre `Git` y `Github`.\n",
    "\n",
    "3. ¿Qué es un `hash` y cómo se representa en un `commit`? De un ejemplo.\n",
    "\n",
    "4. ¿Que elementos componen a la estructura de datos de `Git`?\n",
    "\n",
    "5. ¿Que comandos de `Git` sirven para crear un repositorio y hacer seguimiento a cambios en los archivos?"
   ]
  },
  {
   "cell_type": "markdown",
   "metadata": {
    "id": "2tXCSkf0caG8"
   },
   "source": [
    "<code>Escriba sus respuestas acá:</code>\n",
    "\n",
    "1. Git es un sistema de control de versiones distribuido, por lo que ayuda a mantener el control de versiones mientras se desarrolla un proyecto, facilita el trabajo colaborativo y tiene todas las demás ventajas de los sistemas de control de versiones distribuidos.\n",
    "\n",
    "2. \n",
    "    - Como se dijo anteriormente, Git es un sistema de control de ersiones, mientras que Github es un servicio de alojamiento basado en la web.\n",
    "    - Git crea un repositorio local para rastrear los cambios locales, mientras que Github es un espacio para subir una copia de los repositorios de Git\n",
    "    - Github entrega una interfaz gráfica, mientras que Git se debe utilizar mediante lineas de comando.\n",
    "\n",
    "3. Es una secuencia de 40 caracteres con la que se puede referenciar algún elemento (blobs, commits o árboles), ya que cada elemento tiene su propio hash y es único. En el caso de un commit, basta con 6 caracteres para identificarlo, por ejemplo:\n",
    "```\n",
    " commit c8b1a62d7299552b0654f930d695b33109214111  \n",
    "| Author: seba <stinoco@fen.uchile.cl>  \n",
    "| Date:   Wed Mar 22 17:28:19 2023 -0300  \n",
    "|   \n",
    "|     se agrega funcion   \n",
    "```\n",
    "    donde los 40 caracteres siguientes a la palabra 'commit' representan el hash.\n",
    " \n",
    "\n",
    "4. La estructura de datos de Git se compone por Árboles, Commits y Blobs que contienen los archivos.\n",
    "\n",
    "5. Para crear un repositorio desde cero se utiliza ```git init nombre-nuevo-repo```, con ```git log``` se puede observar los cambios que se han realizado "
   ]
  },
  {
   "cell_type": "markdown",
   "metadata": {
    "id": "MACccbP4gU43"
   },
   "source": [
    "Responda si las siguientes afirmaciones son Verdaderas (V) o Falsas (F). Justifique en **cualquiera** de los casos (0.2 pts c/u):\n",
    "\n",
    "\n",
    "6. `Git` siempre resuelve automáticamente los problemas de lineas al hacer merge entre diferentes ramas.  \n",
    "\n",
    "7. Ejecutar `git pull` sobre un repositorio es equivalente a ejecutar `git clone`.  \n",
    "\n",
    "8. Cada miembro del equipo trabaja en la misma copia del código fuente usando `Git`.  \n",
    "\n",
    "9. En `Git` es posible deshacer cambios y volver a versiones anteriores del código.  \n",
    "\n",
    "10. El comando `git commit` se utiliza para enviar cambios al repositorio remoto.  "
   ]
  },
  {
   "cell_type": "markdown",
   "metadata": {
    "id": "DFnmCToOgeM3"
   },
   "source": [
    "<code>Escriba sus respuestas acá:</code>\n",
    "\n",
    "6. Falso, suele ocurrir que los conflictos de merge se deben resolver a mano.\n",
    "\n",
    "7. Falso, con ```git clone``` se clona un repositorio por completo, mientras que con ```git pull``` puedo traer las nuevas actualizaciones de un repositorio ya clonado/creado, por lo que al utilizarlo en vez de ```git clone``` no funcionará. Por otra parte si se utiliza ```git clone``` en reemplazo de ```git pull``` no se estará actualizando, sino que copiando todo nuevamente.\n",
    "\n",
    "8. Falso, ya que cada miembro del equipo tiene su propia copia en local y a partir de ella actualizan el código remoto.\n",
    "\n",
    "9. Verdadero, existen diferentes comandos que deshacen diferentes tipos de cambios, entre ellos: ```git reset HEAD``` o ```git checkout``` que se puede utilizar sobre un archivo o sobre todos los de un commit anterior.\n",
    "\n",
    "10. Falso, se utiliza para guardar los cambios de manera local y añadir pequeños comentarios, pero no se envían al remoto hasta que se realice un ```push```."
   ]
  },
  {
   "cell_type": "markdown",
   "metadata": {
    "id": "i7Em9JkbbRLo"
   },
   "source": [
    "## Parte 2: Creando una presentación personal (2 pts)"
   ]
  },
  {
   "cell_type": "markdown",
   "metadata": {
    "id": "XWIHfyrlbYOJ"
   },
   "source": [
    "Para empezar a \"*soltar las manos*\" con `Git`, se les encomienda crear un repositorio con una presentación personal. El repositorio debe contener un breve resumen de quienes son ustedes, sus gustos, experiencias, y cualquier otro detalle interesante que ustedes consideren relevante. \n",
    "\n",
    "Para realizar esto, deben seguir los siguientes pasos:\n",
    "\n",
    "1. Contar con una cuenta de github (1 por persona)\n",
    "2. Crear un repositorio con su nombre de usuario\n",
    "3. Crear y modificar un archivo `readme.md` con la información que ustedes deseen compartir.\n",
    "\n",
    "A modo de ejemplo, pueden guiarse por esta *suculenta* [presentación](https://github.com/pbadillatorrealba/pbadillatorrealba).\n",
    "\n",
    "*Hint: Una buena opción es usar templates de presentación personal que encuentren en Google, como los que ofrece este [sitio](https://durgeshsamariya.github.io/awesome-github-profile-readme-templates/#/)*.\n",
    "\n",
    "**Entregable:**\n",
    "\n",
    "Enlace al repositorio con la presentación personal. \n",
    "\n",
    "IMPORTANTE: DEBEN ADJUNTAR UN ENLACE POR PERSONA"
   ]
  },
  {
   "cell_type": "markdown",
   "metadata": {
    "id": "IIkWyl9tf0Sg"
   },
   "source": [
    "<code>Link Presentacion 1:</code> [repositorio con presentación personal](https://github.com/CanelaOrellana/CanelaOrellana) \n",
    "\n",
    "<code>Link Presentacion 2:</code> -"
   ]
  },
  {
   "cell_type": "markdown",
   "metadata": {
    "id": "CAzXOwvDY-IG"
   },
   "source": [
    "## Parte 3: Trabajando sobre un repositorio externo (2 pts)"
   ]
  },
  {
   "cell_type": "markdown",
   "metadata": {
    "id": "84Yjuxxvdfzh"
   },
   "source": [
    "Tras muchos dolores de cabeza, un grupo de entusiastas académicos decidieron aprender sobre `Git` y así trabajar colaborativamente de forma más ordenada y eficiente. Después de una infinidad de intentos y aprender de sus errores \"*a la mala*\", los académicos lograron levantar un [repositorio](https://github.com/MDS7202/lab1) en `Github`. Usando el repositorio de los académicos, responda las siguientes preguntas (incluya también los comandos en `Git` ocupados):"
   ]
  },
  {
   "cell_type": "markdown",
   "metadata": {
    "id": "BFRnAw0rfguR"
   },
   "source": [
    "1. Clone el repositorio a su ambiente local. (0.25 pts)"
   ]
  },
  {
   "cell_type": "markdown",
   "metadata": {
    "id": "KXro32yBeilN"
   },
   "source": [
    "<code>Escriba sus respuestas acá:</code>\n",
    "\n",
    "\n",
    "El repositorio fue copiado en una carpeta nueva utilizando el siguiente código:  \n",
    "```git clone https://github.com/MDS7202/lab1```"
   ]
  },
  {
   "cell_type": "markdown",
   "metadata": {
    "id": "q2qmiDyjt2M_"
   },
   "source": [
    "2. Inspeccione brevemente el repositorio: ¿Cual es el objetivo del proyecto? Explique brevemente la estructura del proyecto, asi como también de cada componente que lo conforma. (0.25 pts)"
   ]
  },
  {
   "cell_type": "markdown",
   "metadata": {
    "id": "aBHpR8VTftkT"
   },
   "source": [
    "<code>Escriba sus respuestas acá:</code>\n",
    "\n",
    "El objetivo del proyecto es emular los sonidos de los animalitos. Cuenta con:\n",
    "- Un **readme.md** que dice el objetivo y contiene una imagen ilustrativa.\n",
    "- archivo ```main.py``` al correrlo uno puede ingresar el nombre de un animalito para saber qué dice\n",
    "- archivo ```animales.py``` el cual contiene los animalitos (algunos) junto con sus sonidos, para así identificar el animalito que se ingresó al correr el main y entregar el sonido correspondiente. Ambos archivos ```.py``` trabajan en equipo."
   ]
  },
  {
   "cell_type": "markdown",
   "metadata": {
    "id": "XFwqcpLZfylf"
   },
   "source": [
    "3. Identifique los últimos cambios al repositorio, reconociendo las principales ramas de trabajo. ¿Son informativos los `commit` realizados? (0.25 pts)\n",
    "*Hint: Se recomienda usar los argumentos `all`, `graph` y `decorate`*"
   ]
  },
  {
   "cell_type": "markdown",
   "metadata": {
    "id": "cmWfXBkOhog0"
   },
   "source": [
    "<code>Escriba sus respuestas acá:</code>\n",
    "\n",
    "Mediante el código ```git log --all --graph --decorate``` se obtuvo la siguiente información:\n",
    "\n",
    "- Se realizaron 4 commit's\n",
    "- Las principales ramas de trabajo son: \n",
    "    - main (esta es la por defecto)\n",
    "    - new_features\n",
    "    - fix-ifs\n",
    "- Los commit's realizados son bastante concisos, pero lo suficientemente descriptivos para entender lo que está pasando (sobre todo después de haber hecho la inspección previa)."
   ]
  },
  {
   "cell_type": "markdown",
   "metadata": {
    "id": "Vqbj9HdXrUnN"
   },
   "source": [
    "4. Uno de los académicos se da cuenta que la rama principal de trabajo no se ejecuta correctamente para todos los argumentos. Señale el error en el código e identifique a la persona que lo cometió usando `git blame` (0.25 pts)\n",
    "\n",
    "*Hint: Le puede ser útil esta [documentación](https://www.atlassian.com/es/git/tutorials/inspecting-a-repository/git-blame).*"
   ]
  },
  {
   "cell_type": "markdown",
   "metadata": {
    "id": "5ajhV2Iar3tV"
   },
   "source": [
    "<code>Escriba sus respuestas acá:</code>\n",
    "\n",
    "El error en el código es:\n",
    "```\n",
    "Traceback (most recent call last):\n",
    "  File \"/Users/canelaorellana/Desktop/Lab PCPCDD/Lab1/lab1/main.py\", line 6, in <module>\n",
    "    animales(animal)\n",
    "  File \"/Users/canelaorellana/Desktop/Lab PCPCDD/Lab1/lab1/animales.py\", line 14, in animales\n",
    "    raise ValueError('animal no reconocido :(')\n",
    "ValueError: animal no reconocido :(\n",
    "``` \n",
    "Por lo que se puede notar que ocurre en ```animales.py```, con lo que se ejecuta el comando ```git blame animales.py``` para descubrir quién lo cometió y se descubre que fue **mezosky**.\n"
   ]
  },
  {
   "cell_type": "markdown",
   "metadata": {
    "id": "m8J3uE7MhqTA"
   },
   "source": [
    "5. Busque los siguientes `commit`:\n",
    "\n",
    "- `c8b1a62d7299552b0654f930d695b33109214111`\n",
    "- `362fe21ee44f53ee944cee4ba484600308f83d78`\n",
    "- `25543a3baf77292baf849726784ca005473acab1`\n",
    "\n",
    "¿Qué diferencias existen entre cada uno? (0.25 pts)"
   ]
  },
  {
   "cell_type": "markdown",
   "metadata": {
    "id": "sNHnZsgIitGh"
   },
   "source": [
    "<code>Escriba sus respuestas acá:</code>\n",
    "\n",
    "Para buscar los commit se utiliza ``` git log``` seguido de cada hash:\n",
    "- ```git log c8b1a62d7299552b0654f930d695b33109214111``` 'se agrega funcion'\n",
    "- ```git log 362fe21ee44f53ee944cee4ba484600308f83d78``` 'se separa el proyecto en modulos'\n",
    "- ```git log 25543a3baf77292baf849726784ca005473acab1``` 'fix ifs'\n",
    "\n",
    "En cada uno de estos commits se realizaron/actualizaron cosas distintas en el repositorio, las cuales son descritas en su comentario.\n",
    "\n",
    "En cuanto a las búsquedas, en todas ellas vuelve a aparecer el primer commit, seguido de los commit's que se hicieron en relación al buscado"
   ]
  },
  {
   "cell_type": "markdown",
   "metadata": {
    "id": "WQIPbfNCgpxC"
   },
   "source": [
    "6. Realice una `merge` de la rama `fix-ifs` con la rama `main` y describa lo que ocurre. ¿Qué parte del código podría estar ocasionando esto? (0.25 pts)"
   ]
  },
  {
   "cell_type": "markdown",
   "metadata": {
    "id": "ypH_6lL5ioZz",
    "tags": []
   },
   "source": [
    "<code>Escriba sus respuestas acá:</code>\n",
    "\n",
    "Para realizar el merge se utiliza el código ```git merge origin/fix-ifs main```.\n",
    "\n",
    "Aparece un conflicto con el merge que se quiere realizar, falla el merge automático de git.\n",
    "\n",
    "Esto se puede deber a que la rama *'fix-ifs'* comienza antes de la separación del proyecto en módulos, por lo que los arreglos implementados se realizan en un solo archivo ```main.py``` y no considerando los 2 archivos que tiene la última versión del proyecto, por lo que son muy diferentes entre si y no se logra realizar el merge automático.\n",
    "\n",
    "Para no tener conflictos más adelante se ejecuta el código ```git merge --abort```\n"
   ]
  },
  {
   "cell_type": "markdown",
   "metadata": {
    "id": "GYfODCjeivkU"
   },
   "source": [
    "7. Cree una rama nueva y proponga una solución al problema anterior, adjuntando el código corregido y señalando las líneas modificadas. (0.5 pts)"
   ]
  },
  {
   "cell_type": "markdown",
   "metadata": {
    "id": "8heBxDU9iziT",
    "tags": []
   },
   "source": [
    "<code>Escriba sus respuestas acá:</code>\n",
    "\n",
    "Primero se crea la nueva rama con: ```git branch parte7```  \n",
    "y se ingresa a esta con: ```git checkout parte7```  \n",
    "se utiliza ```git ls-tree -r --name-only parte``` para confirmar que la rama contiene todos los archivos del main.  \n",
    "\n",
    "Se realizan cambios en ```animales.py```, dejándolo como se muestra en el siguiente bloque:\n"
   ]
  },
  {
   "cell_type": "code",
   "execution_count": null,
   "metadata": {},
   "outputs": [],
   "source": [
    "def animales(input):\n",
    "    \n",
    "    '''\n",
    "    Como hace el animalito?\n",
    "    '''\n",
    "    \n",
    "    if input.lower() == 'gato':\n",
    "        print('miau')\n",
    "    elif input.lower() == 'perro':\n",
    "        print('guau')\n",
    "    elif input.lower() == 'fox':\n",
    "        print('https://www.youtube.com/watch?v=jofNR_WkoCE')\n",
    "    else:\n",
    "        raise ValueError('animal no reconocido :(')"
   ]
  },
  {
   "cell_type": "markdown",
   "metadata": {},
   "source": [
    "Las lineas modificadas fueron la 9 y la 11, donde se cambió **if** por **elif**.  \n",
    "Para añadirlo se ejecuta ```git add animales.py```  \n",
    "y luego ```git commit -m \"Nuevo fix ifs\"```"
   ]
  },
  {
   "cell_type": "markdown",
   "metadata": {
    "id": "Av8ebB9jkALO"
   },
   "source": [
    "## Fin"
   ]
  },
  {
   "cell_type": "markdown",
   "metadata": {
    "id": "aQqZT9fSkBK8"
   },
   "source": [
    "Eso ha sido todo por ahora!! Esperamos que este laboratorio les haya gustado y servido para trabajar con `Git`. Recuerden los dias de plazo que tienen disponibles y que ante cualquier duda no duden en contactar al equipo docente. \n",
    "\n",
    "Nos vemos!! \n",
    "\n",
    "<img src=https://media.tenor.com/OYLdav9k9LkAAAAd/kitty-cat.gif height=300>\n"
   ]
  },
  {
   "cell_type": "code",
   "execution_count": null,
   "metadata": {},
   "outputs": [],
   "source": []
  }
 ],
 "metadata": {
  "colab": {
   "provenance": []
  },
  "kernelspec": {
   "display_name": "Python 3",
   "language": "python",
   "name": "python3"
  },
  "language_info": {
   "codemirror_mode": {
    "name": "ipython",
    "version": 3
   },
   "file_extension": ".py",
   "mimetype": "text/x-python",
   "name": "python",
   "nbconvert_exporter": "python",
   "pygments_lexer": "ipython3",
   "version": "3.8.8"
  }
 },
 "nbformat": 4,
 "nbformat_minor": 4
}
